{
 "cells": [
  {
   "cell_type": "code",
   "execution_count": null,
   "metadata": {
    "scrolled": true
   },
   "outputs": [],
   "source": [
    "!pip install acrcloud,soundfile,sounddevice"
   ]
  },
  {
   "cell_type": "code",
   "execution_count": 2,
   "metadata": {},
   "outputs": [
    {
     "name": "stdout",
     "output_type": "stream",
     "text": [
      "Recording Audio\n",
      "Audio recording (10 sec.) complete.\n",
      "Название песни: Rammstein - DEUTSCHLAND\n"
     ]
    },
    {
     "data": {
      "text/plain": [
       "OrderedDict([('metadata',\n",
       "              {'timestamp_utc': '2020-07-31 14:23:49',\n",
       "               'music': [{'label': 'Rammstein',\n",
       "                 'play_offset_ms': 84560,\n",
       "                 'external_ids': {'isrc': 'DEUM71900524',\n",
       "                  'upc': '00602577493874'},\n",
       "                 'artists': [{'name': 'Rammstein'}],\n",
       "                 'result_from': 3,\n",
       "                 'acrid': '270dd3f55b377d19d1af3f2fa4c4f0cb',\n",
       "                 'title': 'DEUTSCHLAND',\n",
       "                 'duration_ms': 322000,\n",
       "                 'album': {'name': 'DEUTSCHLAND'},\n",
       "                 'score': 85,\n",
       "                 'external_metadata': {'deezer': {'track': {'name': 'DEUTSCHLAND',\n",
       "                    'id': '653672322'},\n",
       "                   'artists': [{'id': 464, 'name': 'Rammstein'}],\n",
       "                   'album': {'id': 91309282}},\n",
       "                  'spotify': {'track': {'name': 'DEUTSCHLAND',\n",
       "                    'id': '1T8IRUJBga0JXioJZvxjBR'},\n",
       "                   'artists': [{'name': 'Rammstein',\n",
       "                     'id': '6wWVKhxIU2cEi0K81v7HvP'}],\n",
       "                   'album': {'name': 'DEUTSCHLAND',\n",
       "                    'id': '3R7mUm3SZhV3BIIY7FMrU1'}}},\n",
       "                 'release_date': '2019-03-28'}]}),\n",
       "             ('cost_time', 0.94000005722046),\n",
       "             ('status', {'msg': 'Success', 'version': '1.0', 'code': 0}),\n",
       "             ('result_type', 0)])"
      ]
     },
     "execution_count": 2,
     "metadata": {},
     "output_type": "execute_result"
    }
   ],
   "source": [
    "import os, sys\n",
    "import acrcloud \n",
    "import collections\n",
    "import numpy as np\n",
    "import scipy.io.wavfile as wav\n",
    "import soundfile as sf\n",
    "import sounddevice as sd\n",
    "import datetime \n",
    "\n",
    "config = {\n",
    "    'host': 'http://eu-west-1.api.acrcloud.com',\n",
    "    'key': '8ab70704a49536f964e75ac29b7e11ae',\n",
    "    'secret': 'dNhCFOhNq2UrFENdoTT1b2qETnQrtS7wJTTn9ggo',\n",
    "    'timeout':10 }\n",
    "\n",
    "fs = 44100\n",
    "duration = 10  # seconds\n",
    "myrecording = sd.rec(duration * fs, samplerate=fs, channels=2,dtype='float64')\n",
    "print(\"Recording Audio\")\n",
    "sd.wait()\n",
    "print(\"Audio recording ({} sec.) complete.\".format(duration))\n",
    "#print(\"Play Audio\")\n",
    "#sd.play(myrecording, fs)\n",
    "#sd.wait()\n",
    "#print(\"Play Audio Complete\")\n",
    "\n",
    "temp_filename = ''.join([n for n in str(datetime.datetime.now()) if n.isdigit()]) + '.wav'\n",
    "sf.write(temp_filename, myrecording, 44100, subtype='PCM_24')\n",
    "\n",
    "result = acrcloud.ACRcloud(config).recognizer(temp_filename)\n",
    "if 'metadata' in result:\n",
    "    print('Название песни:',\n",
    "          result['metadata']['music'][0]['artists'][0]['name'],'-',\n",
    "          result['metadata']['music'][0]['title'])\n",
    "else:\n",
    "    print('Попробуйте ещё раз сделать запись ({} секунд).'.format(duration))\n",
    "collections.OrderedDict(result)"
   ]
  },
  {
   "cell_type": "code",
   "execution_count": null,
   "metadata": {},
   "outputs": [],
   "source": []
  }
 ],
 "metadata": {
  "kernelspec": {
   "display_name": "Python 3",
   "language": "python",
   "name": "python3"
  },
  "language_info": {
   "codemirror_mode": {
    "name": "ipython",
    "version": 3
   },
   "file_extension": ".py",
   "mimetype": "text/x-python",
   "name": "python",
   "nbconvert_exporter": "python",
   "pygments_lexer": "ipython3",
   "version": "3.7.4"
  }
 },
 "nbformat": 4,
 "nbformat_minor": 2
}
