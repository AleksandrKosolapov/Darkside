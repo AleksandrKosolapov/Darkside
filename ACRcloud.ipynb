{
 "cells": [
  {
   "cell_type": "code",
   "execution_count": null,
   "metadata": {
    "scrolled": true
   },
   "outputs": [],
   "source": [
    "!pip install acrcloud,soundfile,soundfile"
   ]
  },
  {
   "cell_type": "code",
   "execution_count": 68,
   "metadata": {},
   "outputs": [
    {
     "name": "stdout",
     "output_type": "stream",
     "text": [
      "Recording Audio\n",
      "Audio recording (10 sec.) complete.\n",
      "Название песни: 808 State - Skin Up Pin Up (Album Version)\n"
     ]
    },
    {
     "data": {
      "text/plain": [
       "OrderedDict([('metadata',\n",
       "              {'timestamp_utc': '2020-07-31 13:14:37',\n",
       "               'music': [{'play_offset_ms': 12740,\n",
       "                 'artists': [{'name': '808 State'}],\n",
       "                 'lyrics': {'copyrights': ['BMG RIGHTS MANAGEMENT US',\n",
       "                   'LLC',\n",
       "                   'Universal Music Publishing Group']},\n",
       "                 'acrid': 'befacfbd3a9ad244f751ac84a64a3559',\n",
       "                 'genres': [{'name': 'Alternative'},\n",
       "                  {'name': 'Indie Pop'},\n",
       "                  {'name': 'Indie Rock'},\n",
       "                  {'name': 'Pop'},\n",
       "                  {'name': 'Indie Pop/Folk'},\n",
       "                  {'name': 'Rock'},\n",
       "                  {'name': 'Metal/HardRock'},\n",
       "                  {'name': 'Films/Games'},\n",
       "                  {'name': 'Film Scores'}],\n",
       "                 'album': {'name': 'Spawn The Album'},\n",
       "                 'label': 'Immortal/Epic',\n",
       "                 'external_ids': {'isrc': 'USSM19701304',\n",
       "                  'upc': '5099748811820'},\n",
       "                 'result_from': 1,\n",
       "                 'contributors': {'composers': ['P. Draper'],\n",
       "                  'lyricists': ['PAUL EDWARD DRAPER']},\n",
       "                 'title': 'Skin Up Pin Up (Album Version)',\n",
       "                 'duration_ms': 327373,\n",
       "                 'score': 100,\n",
       "                 'external_metadata': {'deezer': {'track': {'id': '70620802'},\n",
       "                   'artists': [{'id': 4960}],\n",
       "                   'album': {'id': 113406}},\n",
       "                  'spotify': {'track': {'id': '50FfOWK3vxNdsZNv9XFKL6'},\n",
       "                   'artists': [{'id': '7rqRuB0wgUaStDN73PlV4U'},\n",
       "                    {'id': '7hFdUW64G4iU1tz46ITRfN'}],\n",
       "                   'album': {'id': '7vMw4CQOCyCCJkq9nyDCCB'}},\n",
       "                  'youtube': {'vid': 'ZApqDVYH1DI'}},\n",
       "                 'release_date': '1997-06-13'},\n",
       "                {'play_offset_ms': 12740,\n",
       "                 'artists': [{'name': 'Mansun'}, {'name': '808 State'}],\n",
       "                 'acrid': 'a26db83f397d0f1f185ce080d123a202',\n",
       "                 'genres': [{'name': 'Pop'}],\n",
       "                 'album': {'name': 'SPAWN THE ALBUM'},\n",
       "                 'label': 'SME - Immortal/Epic',\n",
       "                 'external_ids': {'isrc': 'USSM19701304',\n",
       "                  'upc': '5099748811899'},\n",
       "                 'result_from': 1,\n",
       "                 'contributors': {'composers': ['P. Draper'],\n",
       "                  'lyricists': ['P. Draper']},\n",
       "                 'title': 'Skin Up Pin Up (Album Version)',\n",
       "                 'duration_ms': 325000,\n",
       "                 'score': 100,\n",
       "                 'external_metadata': {},\n",
       "                 'release_date': '1997-07-30'}]}),\n",
       "             ('cost_time', 2.231999874115),\n",
       "             ('status', {'msg': 'Success', 'version': '1.0', 'code': 0}),\n",
       "             ('result_type', 0)])"
      ]
     },
     "execution_count": 68,
     "metadata": {},
     "output_type": "execute_result"
    }
   ],
   "source": [
    "import os, sys\n",
    "from acrcloud import ACRcloud\n",
    "import collections\n",
    "import numpy as np\n",
    "import scipy.io.wavfile as wav\n",
    "import soundfile as sf\n",
    "import datetime\n",
    "\n",
    "config = {\n",
    "    'host': 'http://eu-west-1.api.acrcloud.com',\n",
    "    'key': '8ab70704a49536f964e75ac29b7e11ae',\n",
    "    'secret': 'dNhCFOhNq2UrFENdoTT1b2qETnQrtS7wJTTn9ggo',\n",
    "    'timeout':10 }\n",
    "\n",
    "fs = 44100\n",
    "duration = 10  # seconds\n",
    "myrecording = sd.rec(duration * fs, samplerate=fs, channels=2,dtype='float64')\n",
    "print(\"Recording Audio\")\n",
    "sd.wait()\n",
    "print(\"Audio recording ({} sec.) complete.\".format(duration))\n",
    "#print(\"Play Audio\")\n",
    "#sd.play(myrecording, fs)\n",
    "#sd.wait()\n",
    "#print(\"Play Audio Complete\")\n",
    "\n",
    "temp_filename = ''.join([n for n in str(datetime.datetime.now()) if n.isdigit()]) + '.wav'\n",
    "sf.write(temp_filename, myrecording, 44100, subtype='PCM_24')\n",
    "\n",
    "result = ACRcloud(config).recognizer(temp_filename)\n",
    "if 'metadata' in result:\n",
    "    print('Название песни:',\n",
    "          result['metadata']['music'][0]['artists'][0]['name'],'-',\n",
    "          result['metadata']['music'][0]['title'])\n",
    "else:\n",
    "    print('Попробуйте ещё раз сделать запись ({} секунд).'.format(duration))\n",
    "collections.OrderedDict(result)"
   ]
  },
  {
   "cell_type": "code",
   "execution_count": null,
   "metadata": {},
   "outputs": [],
   "source": []
  }
 ],
 "metadata": {
  "kernelspec": {
   "display_name": "Python 3",
   "language": "python",
   "name": "python3"
  },
  "language_info": {
   "codemirror_mode": {
    "name": "ipython",
    "version": 3
   },
   "file_extension": ".py",
   "mimetype": "text/x-python",
   "name": "python",
   "nbconvert_exporter": "python",
   "pygments_lexer": "ipython3",
   "version": "3.7.4"
  }
 },
 "nbformat": 4,
 "nbformat_minor": 2
}
