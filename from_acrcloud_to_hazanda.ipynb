{
 "cells": [
  {
   "cell_type": "code",
   "execution_count": 8,
   "metadata": {},
   "outputs": [],
   "source": [
    "import os, sys\n",
    "import acrcloud \n",
    "import collections\n",
    "import numpy as np\n",
    "import scipy.io.wavfile as wav\n",
    "import soundfile as sf\n",
    "import sounddevice as sd\n",
    "import datetime"
   ]
  },
  {
   "cell_type": "code",
   "execution_count": 30,
   "metadata": {},
   "outputs": [
    {
     "name": "stdout",
     "output_type": "stream",
     "text": [
      "Recording Audio\n",
      "Audio recording (12 sec.) complete.\n",
      "Gang Starr - Code Of The Streets\n"
     ]
    }
   ],
   "source": [
    "config = {\n",
    "    'host': 'http://eu-west-1.api.acrcloud.com',\n",
    "    'key': '8ab70704a49536f964e75ac29b7e11ae',\n",
    "    'secret': 'dNhCFOhNq2UrFENdoTT1b2qETnQrtS7wJTTn9ggo',\n",
    "    'timeout':10 }\n",
    "\n",
    "fs = 44100\n",
    "duration = 12  # seconds\n",
    "myrecording = sd.rec(duration * fs, samplerate=fs, channels=2,dtype='float64')\n",
    "print(\"Recording Audio\")\n",
    "sd.wait()\n",
    "print(\"Audio recording ({} sec.) complete.\".format(duration))\n",
    "\n",
    "titles = []\n",
    "sh = myrecording.shape[0]\n",
    "\n",
    "#эмпирика\n",
    "if duration <=4: \n",
    "    k1,k2 = int(sh/7),int((6/7)*sh)\n",
    "else:\n",
    "    k1,k2 = int(sh/3),int((2/3)*sh)\n",
    "\n",
    "#запись файлов на диск и поиск названия в ACRcloud:\n",
    "filename = ''.join([n for n in str(datetime.datetime.now()) if n.isdigit()])\n",
    "sf.write('{}_original.wav'.format(filename), myrecording, 44100, subtype='PCM_24')\n",
    "result = acrcloud.ACRcloud(config).recognizer('{}_original.wav'.format(filename))\n",
    "if 'metadata' in result:\n",
    "    titles.append('{} - {}'.format(result['metadata']['music'][0]['artists'][0]['name'],\n",
    "                                  result['metadata']['music'][0]['title']))\n",
    "\n",
    "sf.write('{}_middle_section.wav'.format(filename), myrecording[k1:k2], 44100, subtype='PCM_24')\n",
    "result = acrcloud.ACRcloud(config).recognizer('{}_middle_section.wav'.format(filename))\n",
    "if 'metadata' in result:\n",
    "    titles.append('{} - {}'.format(result['metadata']['music'][0]['artists'][0]['name'],\n",
    "                                  result['metadata']['music'][0]['title']))\n",
    "\n",
    "sf.write('{}_second_half.wav'.format(filename), myrecording[int(sh/2):], 44100, subtype='PCM_24')\n",
    "result = acrcloud.ACRcloud(config).recognizer('{}_second_half.wav'.format(filename))\n",
    "if 'metadata' in result:\n",
    "    titles.append('{} - {}'.format(result['metadata']['music'][0]['artists'][0]['name'],\n",
    "                                  result['metadata']['music'][0]['title']))\n",
    "\n",
    "response = ', '.join(list(set(titles)))\n",
    "if len(response)>0:\n",
    "    print(response)\n",
    "else:\n",
    "    print('Shit happens =)')\n",
    "#print(titles)"
   ]
  },
  {
   "cell_type": "code",
   "execution_count": null,
   "metadata": {},
   "outputs": [],
   "source": [
    "#поиск по внутренней базе может выглядеть как:\n",
    "result = DarkSide.recognizer('{}_original.wav'.format(filename))"
   ]
  }
 ],
 "metadata": {
  "kernelspec": {
   "display_name": "Python 3",
   "language": "python",
   "name": "python3"
  },
  "language_info": {
   "codemirror_mode": {
    "name": "ipython",
    "version": 3
   },
   "file_extension": ".py",
   "mimetype": "text/x-python",
   "name": "python",
   "nbconvert_exporter": "python",
   "pygments_lexer": "ipython3",
   "version": "3.8.3"
  }
 },
 "nbformat": 4,
 "nbformat_minor": 4
}
